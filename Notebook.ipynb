{
 "cells": [
  {
   "cell_type": "code",
   "execution_count": 1,
   "id": "f475feff",
   "metadata": {},
   "outputs": [
    {
     "data": {
      "application/vnd.jupyter.widget-view+json": {
       "model_id": "9eb15ca688104c1bbc35b3f2e08e0e35",
       "version_major": 2,
       "version_minor": 0
      },
      "text/plain": [
       "Label(value='For a single altitude:')"
      ]
     },
     "metadata": {},
     "output_type": "display_data"
    },
    {
     "data": {
      "application/vnd.jupyter.widget-view+json": {
       "model_id": "f3084e5623a14ec387524ca07d176705",
       "version_major": 2,
       "version_minor": 0
      },
      "text/plain": [
       "FloatText(value=0.0, description='Enter Altitude (meters):', step=100.0)"
      ]
     },
     "metadata": {},
     "output_type": "display_data"
    },
    {
     "data": {
      "application/vnd.jupyter.widget-view+json": {
       "model_id": "c893fa303d7e43338c522bf0cb6d8c50",
       "version_major": 2,
       "version_minor": 0
      },
      "text/plain": [
       "Checkbox(value=False, description='Show as Table?')"
      ]
     },
     "metadata": {},
     "output_type": "display_data"
    },
    {
     "data": {
      "application/vnd.jupyter.widget-view+json": {
       "model_id": "d9ca6657e0aa461184978d99d57ea7b7",
       "version_major": 2,
       "version_minor": 0
      },
      "text/plain": [
       "Button(description='Predict for Single Altitude', style=ButtonStyle())"
      ]
     },
     "metadata": {},
     "output_type": "display_data"
    },
    {
     "data": {
      "application/vnd.jupyter.widget-view+json": {
       "model_id": "a8542e0e174c4471b42cfb09f47b8372",
       "version_major": 2,
       "version_minor": 0
      },
      "text/plain": [
       "Label(value='\\nFor multiple altitudes (comma-separated):')"
      ]
     },
     "metadata": {},
     "output_type": "display_data"
    },
    {
     "data": {
      "application/vnd.jupyter.widget-view+json": {
       "model_id": "e038fad2e5934d309c1d2510fe197c19",
       "version_major": 2,
       "version_minor": 0
      },
      "text/plain": [
       "Textarea(value='', description='Enter Altitudes (comma-separated):', placeholder='e.g., 0, 1000, 5000')"
      ]
     },
     "metadata": {},
     "output_type": "display_data"
    },
    {
     "data": {
      "application/vnd.jupyter.widget-view+json": {
       "model_id": "2f9d434668ae4ccb8f153314cb80fb97",
       "version_major": 2,
       "version_minor": 0
      },
      "text/plain": [
       "Checkbox(value=False, description='Show as Table?')"
      ]
     },
     "metadata": {},
     "output_type": "display_data"
    },
    {
     "data": {
      "application/vnd.jupyter.widget-view+json": {
       "model_id": "ab2f427b45254419a097a359499d49f7",
       "version_major": 2,
       "version_minor": 0
      },
      "text/plain": [
       "Button(description='Predict for Multiple Altitudes', style=ButtonStyle())"
      ]
     },
     "metadata": {},
     "output_type": "display_data"
    },
    {
     "data": {
      "application/vnd.jupyter.widget-view+json": {
       "model_id": "47c6aaeb72db4ee0a4f2d7fd2c7e1b34",
       "version_major": 2,
       "version_minor": 0
      },
      "text/plain": [
       "Output()"
      ]
     },
     "metadata": {},
     "output_type": "display_data"
    },
    {
     "data": {
      "application/vnd.jupyter.widget-view+json": {
       "model_id": "b92d7422622b409199766a51378987f3",
       "version_major": 2,
       "version_minor": 0
      },
      "text/plain": [
       "Output()"
      ]
     },
     "metadata": {},
     "output_type": "display_data"
    }
   ],
   "source": [
    "import matplotlib.pyplot as plt\n",
    "import numpy as np\n",
    "import ipywidgets as widgets\n",
    "from IPython.display import display\n",
    "import pandas as pd\n",
    "\n",
    "def get_thrust_available(alt):\n",
    "    \"\"\"Calculate thrust available (N) based on altitude (m) using piecewise linear interpolation.\"\"\"\n",
    "    if alt <= 0:\n",
    "        return 50000\n",
    "    elif alt <= 2000:\n",
    "        return 50000 - (alt / 2000.0) * 10000\n",
    "    elif alt <= 5000:\n",
    "        return 40000 - ((alt - 2000) / 3000.0) * 15000\n",
    "    elif alt <= 8000:\n",
    "        return 25000 - ((alt - 5000) / 3000.0) * 15000\n",
    "    elif alt <= 10000:\n",
    "        return 10000 - ((alt - 8000) / 2000.0) * 5000\n",
    "    else:\n",
    "        return 5000\n",
    "\n",
    "def get_power_available(alt):\n",
    "    \"\"\"Calculate power available (MW) based on altitude (m) using piecewise linear interpolation.\"\"\"\n",
    "    if alt <= 0:\n",
    "        return 20\n",
    "    elif alt <= 2000:\n",
    "        return 20 - (alt / 2000.0) * 4\n",
    "    elif alt <= 5000:\n",
    "        return 16 - ((alt - 2000) / 3000.0) * 6\n",
    "    elif alt <= 8000:\n",
    "        return 10 - ((alt - 5000) / 3000.0) * 6\n",
    "    elif alt <= 10000:\n",
    "        return 4 - ((alt - 8000) / 2000.0) * 2\n",
    "    else:\n",
    "        return 2\n",
    "\n",
    "def get_thrust_required(alt):\n",
    "    \"\"\"Calculate thrust required (N) based on altitude (m) using piecewise linear interpolation.\"\"\"\n",
    "    if alt <= 0:\n",
    "        return 10000\n",
    "    elif alt <= 2000:\n",
    "        return 10000 - (alt / 2000.0) * 200\n",
    "    elif alt <= 5000:\n",
    "        return 9800 - ((alt - 2000) / 3000.0) * 300\n",
    "    elif alt <= 8000:\n",
    "        return 9500 - ((alt - 5000) / 3000.0) * 200\n",
    "    elif alt <= 10000:\n",
    "        return 9300 - ((alt - 8000) / 2000.0) * 100\n",
    "    else:\n",
    "        return 9200\n",
    "\n",
    "def get_power_required(alt):\n",
    "    \"\"\"Calculate power required (MW) based on altitude (m) using piecewise linear interpolation.\"\"\"\n",
    "    if alt <= 0:\n",
    "        return 4\n",
    "    elif alt <= 2000:\n",
    "        return 4 - (alt / 2000.0) * 0.1\n",
    "    elif alt <= 5000:\n",
    "        return 3.9 - ((alt - 2000) / 3000.0) * 0.1\n",
    "    elif alt <= 8000:\n",
    "        return 3.8 - ((alt - 5000) / 3000.0) * 0.1\n",
    "    elif alt <= 10000:\n",
    "        return 3.7 - ((alt - 8000) / 2000.0) * 0.1\n",
    "    else:\n",
    "        return 3.6\n",
    "\n",
    "def calculate_performance(altitude):\n",
    "    \"\"\"Calculate all performance metrics for a given altitude.\"\"\"\n",
    "    ta = get_thrust_available(altitude)\n",
    "    pa = get_power_available(altitude)\n",
    "    tr = get_thrust_required(altitude)\n",
    "    pr = get_power_required(altitude)\n",
    "    et = ta - tr\n",
    "    ep = pa - pr\n",
    "    return {\n",
    "        'Altitude (m)': altitude,\n",
    "        'Thrust Available (N)': ta,\n",
    "        'Power Available (MW)': pa,\n",
    "        'Thrust Required (N)': tr,\n",
    "        'Power Required (MW)': pr,\n",
    "        'Excess Thrust (N)': et,\n",
    "        'Excess Power (MW)': ep\n",
    "    }\n",
    "\n",
    "# Widgets\n",
    "altitude_input_single = widgets.FloatText(\n",
    "    description='Enter Altitude (meters):',\n",
    "    value=0.0,\n",
    "    step=100,\n",
    "    disabled=False\n",
    ")\n",
    "multiple_altitudes_input = widgets.Textarea(\n",
    "    description='Enter Altitudes (comma-separated):',\n",
    "    placeholder='e.g., 0, 1000, 5000',\n",
    "    disabled=False\n",
    ")\n",
    "show_excel_single_checkbox = widgets.Checkbox(\n",
    "    description='Show as Table?',\n",
    "    value=False,\n",
    "    disabled=False\n",
    ")\n",
    "show_excel_multiple_checkbox = widgets.Checkbox(\n",
    "    description='Show as Table?',\n",
    "    value=False,\n",
    "    disabled=False\n",
    ")\n",
    "predict_single_button = widgets.Button(description=\"Predict for Single Altitude\")\n",
    "predict_multiple_button = widgets.Button(description=\"Predict for Multiple Altitudes\")\n",
    "output_area = widgets.Output()\n",
    "plot_output = widgets.Output()\n",
    "\n",
    "def predict_single(b):\n",
    "    with output_area:\n",
    "        output_area.clear_output()\n",
    "        altitude = altitude_input_single.value\n",
    "        if not 0 <= altitude <= 12000:\n",
    "            print(\"Altitude must be between 0 and 12000 meters.\")\n",
    "            return\n",
    "        results = calculate_performance(altitude)\n",
    "        print(\"Results:\")\n",
    "        for key, value in results.items():\n",
    "            print(f\"{key}: {value:.1f}\")\n",
    "        if show_excel_single_checkbox.value:\n",
    "            df = pd.DataFrame([results])\n",
    "            display(df)\n",
    "    with plot_output:\n",
    "        plot_output.clear_output()\n",
    "        alt_plot = np.linspace(0, 12000, 100)\n",
    "        ta_plot = np.array([get_thrust_available(a) for a in alt_plot])\n",
    "        pa_plot = np.array([get_power_available(a) for a in alt_plot])\n",
    "        tr_plot = np.array([get_thrust_required(a) for a in alt_plot])\n",
    "        pr_plot = np.array([get_power_required(a) for a in alt_plot])\n",
    "        et_plot = ta_plot - tr_plot\n",
    "        ep_plot = pa_plot - pr_plot\n",
    "\n",
    "        fig, axs = plt.subplots(1, 2, figsize=(14, 6))\n",
    "        fig.suptitle(f'Performance vs. Altitude (Current Altitude: {altitude:.0f} m)', fontsize=16)\n",
    "\n",
    "        axs[0].plot(alt_plot, ta_plot, label='Thrust Available (N)')\n",
    "        axs[0].plot(alt_plot, tr_plot, label='Thrust Required (N)')\n",
    "        axs[0].plot(alt_plot, et_plot, label='Excess Thrust (N)')\n",
    "        axs[0].scatter([0, 2000, 5000, 8000, 10000], [50000, 40000, 25000, 10000, 5000], color='red', marker='o', label='Data Points')\n",
    "        axs[0].axvline(altitude, color='gray', linestyle='--', label=f'Current Altitude')\n",
    "        axs[0].set_xlabel('Altitude (m)')\n",
    "        axs[0].set_ylabel('Thrust (N)')\n",
    "        axs[0].legend()\n",
    "        axs[0].grid(True)\n",
    "        axs[0].axhline(0, color='black', linestyle='-', linewidth=0.5)\n",
    "\n",
    "        axs[1].plot(alt_plot, pa_plot, label='Power Available (MW)')\n",
    "        axs[1].plot(alt_plot, pr_plot, label='Power Required (MW)')\n",
    "        axs[1].plot(alt_plot, ep_plot, label='Excess Power (MW)')\n",
    "        axs[1].scatter([0, 2000, 5000, 8000, 10000], [20, 16, 10, 4, 2], color='red', marker='o', label='Data Points')\n",
    "        axs[1].axvline(altitude, color='gray', linestyle='--', label=f'Current Altitude')\n",
    "        axs[1].set_xlabel('Altitude (m)')\n",
    "        axs[1].set_ylabel('Power (MW)')\n",
    "        axs[1].legend()\n",
    "        axs[1].grid(True)\n",
    "        axs[1].axhline(0, color='black', linestyle='-', linewidth=0.5)\n",
    "\n",
    "        plt.tight_layout(rect=[0, 0.03, 1, 0.95])\n",
    "        plt.show()\n",
    "\n",
    "def predict_multiple(b):\n",
    "    with output_area:\n",
    "        output_area.clear_output()\n",
    "        altitudes_str = multiple_altitudes_input.value.strip()\n",
    "        if not altitudes_str:\n",
    "            print(\"Please enter altitudes.\")\n",
    "            return\n",
    "        try:\n",
    "            altitudes = [float(alt.strip()) for alt in altitudes_str.split(',')]\n",
    "            altitudes = [alt for alt in altitudes if 0 <= alt <= 12000]\n",
    "            if not altitudes:\n",
    "                print(\"All altitudes must be between 0 and 12000 meters.\")\n",
    "                return\n",
    "            all_results = [calculate_performance(alt) for alt in altitudes]\n",
    "            print(\"Results:\")\n",
    "            df = pd.DataFrame(all_results)\n",
    "            display(df)\n",
    "        except ValueError:\n",
    "            print(\"Please enter altitudes as comma-separated numbers.\")\n",
    "    with plot_output:\n",
    "        plot_output.clear_output()\n",
    "        if altitudes_str:\n",
    "            altitudes = [float(alt.strip()) for alt in altitudes_str.split(',') if 0 <= float(alt.strip()) <= 12000]\n",
    "            alt_plot = np.linspace(0, 12000, 100)\n",
    "            ta_plot = np.array([get_thrust_available(a) for a in alt_plot])\n",
    "            pa_plot = np.array([get_power_available(a) for a in alt_plot])\n",
    "            tr_plot = np.array([get_thrust_required(a) for a in alt_plot])\n",
    "            pr_plot = np.array([get_power_required(a) for a in alt_plot])\n",
    "\n",
    "            fig, axs = plt.subplots(1, 2, figsize=(14, 6))\n",
    "            fig.suptitle(f'Performance for Multiple Altitudes', fontsize=16)\n",
    "\n",
    "            axs[0].plot(alt_plot, ta_plot, label='Thrust Available (N)')\n",
    "            axs[0].plot(alt_plot, tr_plot, label='Thrust Required (N)')\n",
    "            axs[0].scatter(altitudes, [get_thrust_available(a) for a in altitudes], color='blue', marker='o', label='Input Altitudes')\n",
    "            axs[0].set_xlabel('Altitude (m)')\n",
    "            axs[0].set_ylabel('Thrust (N)')\n",
    "            axs[0].legend()\n",
    "            axs[0].grid(True)\n",
    "            axs[0].axhline(0, color='black', linestyle='-', linewidth=0.5)\n",
    "\n",
    "            axs[1].plot(alt_plot, pa_plot, label='Power Available (MW)')\n",
    "            axs[1].plot(alt_plot, pr_plot, label='Power Required (MW)')\n",
    "            axs[1].scatter(altitudes, [get_power_available(a) for a in altitudes], color='blue', marker='o', label='Input Altitudes')\n",
    "            axs[1].set_xlabel('Altitude (m)')\n",
    "            axs[1].set_ylabel('Power (MW)')\n",
    "            axs[1].legend()\n",
    "            axs[1].grid(True)\n",
    "            axs[1].axhline(0, color='black', linestyle='-', linewidth=0.5)\n",
    "\n",
    "            plt.tight_layout(rect=[0, 0.03, 1, 0.95])\n",
    "            plt.show()\n",
    "\n",
    "predict_single_button.on_click(predict_single)\n",
    "predict_multiple_button.on_click(predict_multiple)\n",
    "\n",
    "display(widgets.Label(\"For a single altitude:\"))\n",
    "display(altitude_input_single)\n",
    "display(show_excel_single_checkbox)\n",
    "display(predict_single_button)\n",
    "display(widgets.Label(\"\\nFor multiple altitudes (comma-separated):\"))\n",
    "display(multiple_altitudes_input)\n",
    "display(show_excel_multiple_checkbox)\n",
    "display(predict_multiple_button)\n",
    "display(output_area)\n",
    "display(plot_output)"
   ]
  }
 ],
 "metadata": {
  "kernelspec": {
   "display_name": "base",
   "language": "python",
   "name": "python3"
  },
  "language_info": {
   "codemirror_mode": {
    "name": "ipython",
    "version": 3
   },
   "file_extension": ".py",
   "mimetype": "text/x-python",
   "name": "python",
   "nbconvert_exporter": "python",
   "pygments_lexer": "ipython3",
   "version": "3.12.7"
  }
 },
 "nbformat": 4,
 "nbformat_minor": 5
}
